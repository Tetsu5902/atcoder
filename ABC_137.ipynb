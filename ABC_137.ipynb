{
 "cells": [
  {
   "cell_type": "markdown",
   "metadata": {},
   "source": [
    "https://atcoder.jp/contests/abc137"
   ]
  },
  {
   "cell_type": "code",
   "execution_count": 2,
   "metadata": {},
   "outputs": [
    {
     "name": "stdout",
     "output_type": "stream",
     "text": [
      "10 20\n",
      "200\n"
     ]
    }
   ],
   "source": [
    "a,b = [int(s) for s in input().split(\" \")]\n",
    "a_plus_b = a+b\n",
    "a_minus_b = a-b\n",
    "a_mul_b = a*b\n",
    "\n",
    "max_three = max(a_plus_b, max(a_minus_b, a_mul_b))\n",
    "print(max_three)"
   ]
  },
  {
   "cell_type": "code",
   "execution_count": 7,
   "metadata": {},
   "outputs": [
    {
     "name": "stdout",
     "output_type": "stream",
     "text": [
      "3 7\n",
      "5 6 7 8 9\n"
     ]
    }
   ],
   "source": [
    "K,X = [int(s) for s in input().split(\" \")]\n",
    "num_min =  1000000*(-1)\n",
    "num_max =  1000000\n",
    "\n",
    "blk_min = max(num_min, X - (K-1))\n",
    "blk_max = min(num_max, X + (K-1))\n",
    "out = \"\"\n",
    "for i in range(blk_min, blk_max+1):\n",
    "    out=out+str(i)+\" \"\n",
    "    \n",
    "print(out[:-1])"
   ]
  },
  {
   "cell_type": "code",
   "execution_count": 30,
   "metadata": {},
   "outputs": [
    {
     "name": "stdout",
     "output_type": "stream",
     "text": [
      "5\n",
      "abaaaaaaaa\n",
      "abaaaaaaaa\n",
      "abaaaaaaaa\n",
      "abaaaaaaaa\n",
      "abaaaaaaaa\n",
      "10\n"
     ]
    }
   ],
   "source": [
    "N = int(input())\n",
    "strDict = {} \n",
    "for i in range(N):\n",
    "    inStr = input()\n",
    "    inList = []\n",
    "    for j in range(len(inStr)):\n",
    "        inList.append(inStr[j])\n",
    "        inList.sort()\n",
    "    sortStr = ''.join(inList)\n",
    "    if sortStr in strDict:\n",
    "        strDict[sortStr] = strDict[sortStr] + 1\n",
    "    else:\n",
    "        strDict[sortStr] = 1\n",
    "\n",
    "anaglam = 0\n",
    "\n",
    "for i in strDict.keys():\n",
    "    anaglam = anaglam + strDict[i]*(strDict[i]-1)//2\n",
    "    \n",
    "print(anaglam)"
   ]
  }
 ],
 "metadata": {
  "kernelspec": {
   "display_name": "Python 3",
   "language": "python",
   "name": "python3"
  },
  "language_info": {
   "codemirror_mode": {
    "name": "ipython",
    "version": 3
   },
   "file_extension": ".py",
   "mimetype": "text/x-python",
   "name": "python",
   "nbconvert_exporter": "python",
   "pygments_lexer": "ipython3",
   "version": "3.6.1"
  }
 },
 "nbformat": 4,
 "nbformat_minor": 2
}

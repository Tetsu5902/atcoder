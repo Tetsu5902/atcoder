{
 "cells": [
  {
   "cell_type": "markdown",
   "metadata": {},
   "source": [
    "https://atcoder.jp/contests/practice/tasks/practice_1  \n",
    "https://atcoder.jp/contests/abs/tasks/practice_1"
   ]
  },
  {
   "cell_type": "code",
   "execution_count": 11,
   "metadata": {},
   "outputs": [
    {
     "name": "stdout",
     "output_type": "stream",
     "text": [
      "1\n",
      "2 3\n",
      "q\n",
      "6 q\n"
     ]
    }
   ],
   "source": [
    "a = int(input())\n",
    "b,c = input().split(\" \")\n",
    "s = input()\n",
    "\n",
    "sum = a+int(b)+int(c)\n",
    "\n",
    "print(str(sum) + \" \" + s)"
   ]
  },
  {
   "cell_type": "markdown",
   "metadata": {},
   "source": [
    "https://atcoder.jp/contests/abs/tasks/abc086_a"
   ]
  },
  {
   "cell_type": "code",
   "execution_count": 5,
   "metadata": {},
   "outputs": [
    {
     "name": "stdout",
     "output_type": "stream",
     "text": [
      "1 1\n",
      "Odd\n"
     ]
    }
   ],
   "source": [
    "a,b = [int(s) for s in input().split(\" \")]\n",
    "\n",
    "if a&1 and b&1:\n",
    "    print(\"Odd\")\n",
    "else:\n",
    "    print(\"Even\")"
   ]
  },
  {
   "cell_type": "markdown",
   "metadata": {},
   "source": [
    "https://atcoder.jp/contests/abs/tasks/abc081_a"
   ]
  },
  {
   "cell_type": "code",
   "execution_count": 9,
   "metadata": {},
   "outputs": [
    {
     "name": "stdout",
     "output_type": "stream",
     "text": [
      "111\n",
      "3\n"
     ]
    }
   ],
   "source": [
    "gridStr = input()\n",
    "beedamaNum = 0\n",
    "for i in range(len(gridStr)):\n",
    "    if gridStr[i] == '1':\n",
    "        beedamaNum = beedamaNum + 1\n",
    "print(beedamaNum)"
   ]
  },
  {
   "cell_type": "markdown",
   "metadata": {},
   "source": [
    "https://atcoder.jp/contests/abs/tasks/abc081_b"
   ]
  },
  {
   "cell_type": "code",
   "execution_count": 20,
   "metadata": {},
   "outputs": [
    {
     "name": "stdout",
     "output_type": "stream",
     "text": [
      "3\n",
      "16 32 64\n",
      "[16, 32, 64]\n",
      "4\n"
     ]
    }
   ],
   "source": [
    "N = int(input())\n",
    "inList = [int(s) for s in input().split(\" \")]\n",
    "#print(inList)\n",
    "inNumMin = 32\n",
    "for inNum in inList:\n",
    "    shiftNum = 0\n",
    "    while True:\n",
    "        if inNum & 1 == 1:\n",
    "            break\n",
    "        inNum = inNum >> 1\n",
    "        shiftNum = shiftNum +1\n",
    "    inNumMin = min(inNumMin, shiftNum)\n",
    "    \n",
    "print(inNumMin)"
   ]
  },
  {
   "cell_type": "markdown",
   "metadata": {},
   "source": [
    "https://atcoder.jp/contests/abs/tasks/abc087_b"
   ]
  },
  {
   "cell_type": "code",
   "execution_count": 22,
   "metadata": {},
   "outputs": [
    {
     "name": "stdout",
     "output_type": "stream",
     "text": [
      "30\n",
      "40\n",
      "50\n",
      "6000\n",
      "213\n"
     ]
    }
   ],
   "source": [
    "A = int(input())\n",
    "B = int(input())\n",
    "C = int(input())\n",
    "X = int(input())\n",
    "\n",
    "\n",
    "combiNum = 0\n",
    "\n",
    "for a in range(A+1):\n",
    "    for b in range(B+1):\n",
    "        for c in range(C+1):\n",
    "            sumCoins = a*500 + b*100 + c*50\n",
    "            if sumCoins == X:\n",
    "                combiNum = combiNum +1\n",
    "                \n",
    "print(combiNum)"
   ]
  },
  {
   "cell_type": "markdown",
   "metadata": {},
   "source": [
    "https://atcoder.jp/contests/abs/tasks/abc083_b"
   ]
  },
  {
   "cell_type": "code",
   "execution_count": 16,
   "metadata": {},
   "outputs": [
    {
     "name": "stdout",
     "output_type": "stream",
     "text": [
      "100 4 16\n",
      "4554\n"
     ]
    }
   ],
   "source": [
    "N,A,B = [int(s) for s in input().split(\" \")]\n",
    "\n",
    "sumAll = 0\n",
    "for i in range(1,N+1):\n",
    "    sumDigits = sum([int(s) for s in str(i)])\n",
    "    if A <= sumDigits and sumDigits <= B:\n",
    "        #print(i)\n",
    "        sumAll = sumAll + i\n",
    "print(sumAll)"
   ]
  },
  {
   "cell_type": "markdown",
   "metadata": {},
   "source": [
    "https://atcoder.jp/contests/abs/tasks/abc088_b"
   ]
  },
  {
   "cell_type": "code",
   "execution_count": 29,
   "metadata": {},
   "outputs": [
    {
     "name": "stdout",
     "output_type": "stream",
     "text": [
      "3\n",
      "2 7 4\n",
      "[7, 4, 2]\n",
      "5\n"
     ]
    }
   ],
   "source": [
    "N = int(input())\n",
    "inList = sorted([int(s) for s in input().split(\" \")], reverse=True)\n",
    "#print(inList)\n",
    "alice = 0\n",
    "bob = 0\n",
    "for i, card in enumerate(inList):\n",
    "    if i&1 == 0:\n",
    "        alice = alice + card\n",
    "    else:\n",
    "        bob = bob + card\n",
    "        \n",
    "print(alice-bob)"
   ]
  },
  {
   "cell_type": "markdown",
   "metadata": {},
   "source": [
    "https://atcoder.jp/contests/abs/tasks/abc085_b"
   ]
  },
  {
   "cell_type": "code",
   "execution_count": 31,
   "metadata": {},
   "outputs": [
    {
     "name": "stdout",
     "output_type": "stream",
     "text": [
      "3\n",
      "15\n",
      "15\n",
      "15\n",
      "1\n"
     ]
    }
   ],
   "source": [
    "N = int(input())\n",
    "mochiDict = {}\n",
    "for i in range(N):\n",
    "    cur = int(input())\n",
    "    if not cur in mochiDict:\n",
    "        mochiDict[cur] = 1\n",
    "    \n",
    "print(len(mochiDict))"
   ]
  },
  {
   "cell_type": "markdown",
   "metadata": {},
   "source": [
    "https://atcoder.jp/contests/abs/tasks/abc085_c"
   ]
  },
  {
   "cell_type": "code",
   "execution_count": 17,
   "metadata": {},
   "outputs": [
    {
     "name": "stdout",
     "output_type": "stream",
     "text": [
      "1000 1234000\n",
      "2 54 944\n"
     ]
    }
   ],
   "source": [
    "N,Y = [int(s) for s in input().split(\" \")]\n",
    "\n",
    "x=0\n",
    "const = Y - 1000*N\n",
    "result = \"-1 -1 -1\"\n",
    "while True:\n",
    "    y_mul_4000 = const - 9000*x\n",
    "    if y_mul_4000 < 0:\n",
    "        break\n",
    "    y, mod = divmod(y_mul_4000, 4000)\n",
    "    if mod == 0 and ((x+y) <= N):\n",
    "        z = N - x - y\n",
    "        result = str(x) + \" \" + str(y) + \" \" + str(z)\n",
    "        break\n",
    "    x = x + 1\n",
    "print(result)"
   ]
  },
  {
   "cell_type": "markdown",
   "metadata": {},
   "source": [
    "https://atcoder.jp/contests/abs/tasks/arc065_a"
   ]
  },
  {
   "cell_type": "code",
   "execution_count": 3,
   "metadata": {},
   "outputs": [
    {
     "name": "stdout",
     "output_type": "stream",
     "text": [
      "dreameraser\n",
      "YES\n"
     ]
    }
   ],
   "source": [
    "S = input()\n",
    "\n",
    "\n",
    "match = ['dreameraser', 'dreamerase', 'dreamer', 'dream', 'eraser', 'erase']\n",
    "\n",
    "matchMax = 11\n",
    "ptr = 0\n",
    "slen = len(S)\n",
    "\n",
    "isFinished = True\n",
    "while ptr < slen:\n",
    "    isFind = False\n",
    "    for m in match:\n",
    "        if S[ptr:ptr+matchMax].find(m) == 0:\n",
    "            ptr = ptr + len(m)\n",
    "            isFind = True\n",
    "            break\n",
    "            \n",
    "    if isFind == False:\n",
    "        isFinished = False\n",
    "        break\n",
    "if isFinished:\n",
    "    print(\"YES\")\n",
    "else:\n",
    "    print(\"NO\")"
   ]
  },
  {
   "cell_type": "markdown",
   "metadata": {},
   "source": [
    "https://atcoder.jp/contests/abs/tasks/arc089_a"
   ]
  },
  {
   "cell_type": "code",
   "execution_count": 24,
   "metadata": {},
   "outputs": [
    {
     "name": "stdout",
     "output_type": "stream",
     "text": [
      "1\n",
      "2 100 100\n",
      "No\n"
     ]
    }
   ],
   "source": [
    "N = int(input())\n",
    "\n",
    "inputList = []\n",
    "for i in range(N):\n",
    "    inputList.append([int(s) for s in input().split(\" \")])\n",
    "\n",
    "result = 'Yes'\n",
    "tp = 0\n",
    "xp = 0\n",
    "yp = 0\n",
    "for i in range(N):\n",
    "    t,x,y = inputList[i]\n",
    "    td = t - tp\n",
    "    xd = abs(x - xp)\n",
    "    yd = abs(y - yp)\n",
    "    \n",
    "    td_evenodd = td & 1 #0:even, 1:odd\n",
    "    xyd_evenodd = (xd+yd) & 1\n",
    "    if (td_evenodd != xyd_evenodd) or td < (xd+yd):\n",
    "        result = 'No'\n",
    "        break\n",
    "    tp = t\n",
    "    xp = x\n",
    "    yp = y\n",
    "    \n",
    "print(result)"
   ]
  }
 ],
 "metadata": {
  "kernelspec": {
   "display_name": "Python 3",
   "language": "python",
   "name": "python3"
  },
  "language_info": {
   "codemirror_mode": {
    "name": "ipython",
    "version": 3
   },
   "file_extension": ".py",
   "mimetype": "text/x-python",
   "name": "python",
   "nbconvert_exporter": "python",
   "pygments_lexer": "ipython3",
   "version": "3.6.1"
  }
 },
 "nbformat": 4,
 "nbformat_minor": 2
}
